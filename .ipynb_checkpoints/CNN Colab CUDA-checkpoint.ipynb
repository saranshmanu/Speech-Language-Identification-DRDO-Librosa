{
 "cells": [
  {
   "cell_type": "code",
   "execution_count": 1,
   "metadata": {
    "colab": {
     "base_uri": "https://localhost:8080/",
     "height": 216
    },
    "colab_type": "code",
    "id": "btjHbyusflyB",
    "outputId": "d543f45c-4013-4a84-aba7-560de7706238"
   },
   "outputs": [
    {
     "name": "stdout",
     "output_type": "stream",
     "text": [
      "Requirement already satisfied: pydrive in /usr/local/lib/python3.6/dist-packages (1.3.1)\n",
      "Requirement already satisfied: oauth2client>=4.0.0 in /usr/local/lib/python3.6/dist-packages (from pydrive) (4.1.3)\n",
      "Requirement already satisfied: google-api-python-client>=1.2 in /usr/local/lib/python3.6/dist-packages (from pydrive) (1.6.7)\n",
      "Requirement already satisfied: PyYAML>=3.0 in /usr/local/lib/python3.6/dist-packages (from pydrive) (3.13)\n",
      "Requirement already satisfied: pyasn1>=0.1.7 in /usr/local/lib/python3.6/dist-packages (from oauth2client>=4.0.0->pydrive) (0.4.5)\n",
      "Requirement already satisfied: rsa>=3.1.4 in /usr/local/lib/python3.6/dist-packages (from oauth2client>=4.0.0->pydrive) (4.0)\n",
      "Requirement already satisfied: httplib2>=0.9.1 in /usr/local/lib/python3.6/dist-packages (from oauth2client>=4.0.0->pydrive) (0.11.3)\n",
      "Requirement already satisfied: six>=1.6.1 in /usr/local/lib/python3.6/dist-packages (from oauth2client>=4.0.0->pydrive) (1.12.0)\n",
      "Requirement already satisfied: pyasn1-modules>=0.0.5 in /usr/local/lib/python3.6/dist-packages (from oauth2client>=4.0.0->pydrive) (0.2.5)\n",
      "Requirement already satisfied: uritemplate<4dev,>=3.0.0 in /usr/local/lib/python3.6/dist-packages (from google-api-python-client>=1.2->pydrive) (3.0.0)\n"
     ]
    }
   ],
   "source": [
    "import torch\n",
    "!pip install pydrive\n",
    "import torchvision\n",
    "import torch.nn as nn\n",
    "import time"
   ]
  },
  {
   "cell_type": "code",
   "execution_count": 2,
   "metadata": {
    "colab": {
     "base_uri": "https://localhost:8080/",
     "height": 34
    },
    "colab_type": "code",
    "id": "p5LtMntxigi3",
    "outputId": "406c0b10-f970-455d-c19f-8c3b60d65795"
   },
   "outputs": [
    {
     "name": "stdout",
     "output_type": "stream",
     "text": [
      "Drive already mounted at /content/drive; to attempt to forcibly remount, call drive.mount(\"/content/drive\", force_remount=True).\n"
     ]
    }
   ],
   "source": [
    "from google.colab import drive, files\n",
    "drive.mount('/content/drive')"
   ]
  },
  {
   "cell_type": "code",
   "execution_count": null,
   "metadata": {
    "colab": {},
    "colab_type": "code",
    "id": "qqUNuC__gITG"
   },
   "outputs": [],
   "source": [
    "device = torch.device(\"cuda\" if torch.cuda.is_available() else \"cpu\")\n",
    "def load_dataset():\n",
    "    data_path_train = 'drive/My Drive/train_spectrogram_images'\n",
    "    data_path_test = 'drive/My Drive/test_spectrogram_images'\n",
    "    dataset_train = torchvision.datasets.ImageFolder(\n",
    "        root=data_path_train,\n",
    "        transform=torchvision.transforms.ToTensor()\n",
    "    )\n",
    "    dataset_test = torchvision.datasets.ImageFolder(\n",
    "        root=data_path_test,\n",
    "        transform=torchvision.transforms.ToTensor()\n",
    "    )\n",
    "    test_loader = torch.utils.data.DataLoader(\n",
    "        dataset_test,\n",
    "        batch_size=8,\n",
    "        num_workers=0,\n",
    "        shuffle=True\n",
    "    )\n",
    "    train_loader = torch.utils.data.DataLoader(\n",
    "        dataset_train,\n",
    "        batch_size=8,\n",
    "        num_workers=0,\n",
    "        shuffle=True\n",
    "    )\n",
    "    return train_loader, test_loader"
   ]
  },
  {
   "cell_type": "code",
   "execution_count": null,
   "metadata": {
    "colab": {},
    "colab_type": "code",
    "id": "v22eAOxsh4kN"
   },
   "outputs": [],
   "source": [
    "epochs = 1"
   ]
  },
  {
   "cell_type": "code",
   "execution_count": null,
   "metadata": {
    "colab": {},
    "colab_type": "code",
    "id": "3lqvJdeth9Jm"
   },
   "outputs": [],
   "source": [
    "class CNNModel(nn.Module):\n",
    "    def __init__(self):\n",
    "        super(CNNModel, self).__init__()\n",
    "        self.layer1 = nn.Sequential(\n",
    "            nn.Conv2d(3, 32, kernel_size=5, stride=1, padding = 2),\n",
    "            nn.BatchNorm2d(32),\n",
    "            nn.ReLU(),\n",
    "            nn.MaxPool2d(kernel_size=2, stride=2)\n",
    "        )\n",
    "        self.layer2 = nn.Sequential(\n",
    "            nn.Conv2d(32, 64, kernel_size=5, stride=1, padding=2),\n",
    "            nn.BatchNorm2d(64),\n",
    "            nn.ReLU(),\n",
    "            nn.MaxPool2d(kernel_size=2, stride=2)\n",
    "        )\n",
    "        self.layer3 = nn.Sequential(\n",
    "            nn.Conv2d(64, 128, kernel_size=5, stride=1, padding=2),\n",
    "            nn.BatchNorm2d(128),\n",
    "            nn.ReLU(),\n",
    "            nn.MaxPool2d(kernel_size=2, stride=2)\n",
    "        )\n",
    "        self.relu = nn.ReLU()\n",
    "        self.softmax = nn.Softmax()\n",
    "        self.fc1 = nn.Linear(54*54*128, 1000)\n",
    "        self.fc2 = nn.Linear(1000, 3)\n",
    "    def forward(self, x):\n",
    "        x = self.layer1(x)\n",
    "        x = self.layer2(x)\n",
    "        x = self.layer3(x)\n",
    "        x = x.reshape(x.size(0), -1)\n",
    "        x = self.fc1(x)\n",
    "        x = self.fc2(x)\n",
    "        return x"
   ]
  },
  {
   "cell_type": "code",
   "execution_count": null,
   "metadata": {
    "colab": {},
    "colab_type": "code",
    "id": "8i6TVzQ9h9v6"
   },
   "outputs": [],
   "source": [
    "train_loader, test_loader = load_dataset()\n",
    "model = CNNModel().to(device)\n",
    "loss = nn.CrossEntropyLoss()\n",
    "optimizer = torch.optim.Adam(model.parameters())"
   ]
  },
  {
   "cell_type": "code",
   "execution_count": 14,
   "metadata": {
    "colab": {
     "base_uri": "https://localhost:8080/",
     "height": 1057
    },
    "colab_type": "code",
    "id": "-hTfCxS1i0SV",
    "outputId": "a774714a-6bbd-4f29-b359-c2efd094630f"
   },
   "outputs": [
    {
     "name": "stdout",
     "output_type": "stream",
     "text": [
      "Epoch [1/1], Step [1/53], Loss: 0.0000, Accuracy: 100.00%\n",
      "Epoch [1/1], Step [2/53], Loss: 0.0000, Accuracy: 100.00%\n",
      "Epoch [1/1], Step [3/53], Loss: 0.0000, Accuracy: 100.00%\n",
      "Epoch [1/1], Step [4/53], Loss: 0.0000, Accuracy: 100.00%\n",
      "Epoch [1/1], Step [5/53], Loss: 0.0000, Accuracy: 100.00%\n",
      "Epoch [1/1], Step [6/53], Loss: 0.0000, Accuracy: 100.00%\n",
      "Epoch [1/1], Step [7/53], Loss: 0.0000, Accuracy: 100.00%\n",
      "Epoch [1/1], Step [8/53], Loss: 0.0000, Accuracy: 100.00%\n",
      "Epoch [1/1], Step [9/53], Loss: 0.0000, Accuracy: 100.00%\n",
      "Epoch [1/1], Step [10/53], Loss: 0.0000, Accuracy: 100.00%\n",
      "Epoch [1/1], Step [11/53], Loss: 0.0000, Accuracy: 100.00%\n",
      "Epoch [1/1], Step [12/53], Loss: 0.0000, Accuracy: 100.00%\n",
      "Epoch [1/1], Step [13/53], Loss: 0.0000, Accuracy: 100.00%\n",
      "Epoch [1/1], Step [14/53], Loss: 0.0000, Accuracy: 100.00%\n",
      "Epoch [1/1], Step [15/53], Loss: 0.0000, Accuracy: 100.00%\n",
      "Epoch [1/1], Step [16/53], Loss: 0.0000, Accuracy: 100.00%\n",
      "Epoch [1/1], Step [17/53], Loss: 0.0000, Accuracy: 100.00%\n",
      "Epoch [1/1], Step [18/53], Loss: 0.0000, Accuracy: 100.00%\n",
      "Epoch [1/1], Step [19/53], Loss: 0.0000, Accuracy: 100.00%\n",
      "Epoch [1/1], Step [20/53], Loss: 0.0000, Accuracy: 100.00%\n",
      "Epoch [1/1], Step [21/53], Loss: 0.0000, Accuracy: 100.00%\n",
      "Epoch [1/1], Step [22/53], Loss: 0.0000, Accuracy: 100.00%\n",
      "Epoch [1/1], Step [23/53], Loss: 0.0000, Accuracy: 100.00%\n",
      "Epoch [1/1], Step [24/53], Loss: 0.0000, Accuracy: 100.00%\n",
      "Epoch [1/1], Step [25/53], Loss: 0.0000, Accuracy: 100.00%\n",
      "Epoch [1/1], Step [26/53], Loss: 0.0000, Accuracy: 100.00%\n",
      "Epoch [1/1], Step [27/53], Loss: 0.0000, Accuracy: 100.00%\n",
      "Epoch [1/1], Step [28/53], Loss: 0.0000, Accuracy: 100.00%\n",
      "Epoch [1/1], Step [29/53], Loss: 0.0000, Accuracy: 100.00%\n",
      "Epoch [1/1], Step [30/53], Loss: 0.0000, Accuracy: 100.00%\n",
      "Epoch [1/1], Step [31/53], Loss: 0.0000, Accuracy: 100.00%\n",
      "Epoch [1/1], Step [32/53], Loss: 0.0000, Accuracy: 100.00%\n",
      "Epoch [1/1], Step [33/53], Loss: 0.0000, Accuracy: 100.00%\n",
      "Epoch [1/1], Step [34/53], Loss: 0.0000, Accuracy: 100.00%\n",
      "Epoch [1/1], Step [35/53], Loss: 0.0000, Accuracy: 100.00%\n",
      "Epoch [1/1], Step [36/53], Loss: 0.0000, Accuracy: 100.00%\n",
      "Epoch [1/1], Step [37/53], Loss: 0.0000, Accuracy: 100.00%\n",
      "Epoch [1/1], Step [38/53], Loss: 0.0000, Accuracy: 100.00%\n",
      "Epoch [1/1], Step [39/53], Loss: 0.0000, Accuracy: 100.00%\n",
      "Epoch [1/1], Step [40/53], Loss: 0.0000, Accuracy: 100.00%\n",
      "Epoch [1/1], Step [41/53], Loss: 0.0000, Accuracy: 100.00%\n",
      "Epoch [1/1], Step [42/53], Loss: 0.0000, Accuracy: 100.00%\n",
      "Epoch [1/1], Step [43/53], Loss: 0.0000, Accuracy: 100.00%\n",
      "Epoch [1/1], Step [44/53], Loss: 0.0000, Accuracy: 100.00%\n",
      "Epoch [1/1], Step [45/53], Loss: 0.0000, Accuracy: 100.00%\n",
      "Epoch [1/1], Step [46/53], Loss: 0.0000, Accuracy: 100.00%\n",
      "Epoch [1/1], Step [47/53], Loss: 0.0000, Accuracy: 100.00%\n",
      "Epoch [1/1], Step [48/53], Loss: 0.0000, Accuracy: 100.00%\n",
      "Epoch [1/1], Step [49/53], Loss: 0.0000, Accuracy: 100.00%\n",
      "Epoch [1/1], Step [50/53], Loss: 0.0000, Accuracy: 100.00%\n",
      "Epoch [1/1], Step [51/53], Loss: 0.0000, Accuracy: 100.00%\n",
      "Epoch [1/1], Step [52/53], Loss: 0.0000, Accuracy: 100.00%\n",
      "Epoch [1/1], Step [53/53], Loss: 0.0000, Accuracy: 100.00%\n"
     ]
    },
    {
     "name": "stderr",
     "output_type": "stream",
     "text": [
      "/usr/local/lib/python3.6/dist-packages/torch/serialization.py:256: UserWarning: Couldn't retrieve source code for container of type CNNModel. It won't be checked for correctness upon loading.\n",
      "  \"type \" + obj.__name__ + \". It won't be checked \"\n"
     ]
    },
    {
     "name": "stdout",
     "output_type": "stream",
     "text": [
      "Saved the updated model\n",
      "Test Error of the model on the test images: 0.0\n",
      "Test Accuracy of the model on the test images: 99.16666666666667 %\n",
      "Train Error of the model on the test images: 2.3416111272211992e-09\n",
      "Train Accuracy of the model on the test images: 100.0 %\n"
     ]
    }
   ],
   "source": [
    "loss_history = []\n",
    "accuracy_history = []\n",
    "batches = len(train_loader)\n",
    "\n",
    "performance = [0]\n",
    "\n",
    "for j in range(0, epochs):\n",
    "    \n",
    "    # Calculating the train accuracy of the model for each batch\n",
    "    correct_train, total_train, error_train = 0, 0, 0\n",
    "    for i, (images, labels) in enumerate(train_loader):\n",
    "        # Calculating the output, error\n",
    "        images = images.cuda()\n",
    "        outputs = model(images)\n",
    "        error = loss(outputs, labels.cuda())\n",
    "        loss_history.append(error.item())\n",
    "        # Backprop and perform Adam optimisation\n",
    "        optimizer.zero_grad()\n",
    "        error.backward()\n",
    "        optimizer.step()\n",
    "        # Track the accuracy\n",
    "        total = labels.size(0)\n",
    "        _, predicted = torch.max(outputs.data, 1)\n",
    "        correct = (predicted == labels.cuda()).sum().item()\n",
    "        accuracy_history.append(correct / total)\n",
    "        correct_train += correct\n",
    "        error_train += error\n",
    "        total_train += total\n",
    "        # Logging the performance of the model after each batch\n",
    "        print('Epoch [{}/{}], Step [{}/{}], Loss: {:.4f}, Accuracy: {:.2f}%'.format(j + 1, epochs, i + 1, batches, error.item(), (correct / total) * 100))\n",
    "    \n",
    "    # Calculating the test accuracy of the model\n",
    "    correct_test, total_test, error_test = 0, 0, 0\n",
    "    for i, (images_test, labels_test) in enumerate(test_loader):\n",
    "        images_test = images_test.cuda()\n",
    "        outputs_test = model(images_test)\n",
    "        error_test = loss(outputs_test, labels_test.cuda())\n",
    "        _, predicted_test = torch.max(outputs_test.data, 1)\n",
    "        total_test += labels_test.size(0)\n",
    "        correct_test += (predicted_test == labels_test.cuda()).sum().item()\n",
    "        error_test += error_test\n",
    "    \n",
    "    test_accuracy = (correct_test / total_test) * 100\n",
    "    named_tuple = time.localtime() # get struct_time\n",
    "    time_string = time.strftime(\"%m:%d:%Y-%H:%M:%S\", named_tuple)  \n",
    "    performance.append(test_accuracy)\n",
    "\n",
    "    flag = True\n",
    "    for i in performance:\n",
    "        if test_accuracy < i:\n",
    "            flag = False\n",
    "    if flag == True:\n",
    "        torch.save(model, 'CNNModel-{}-{:.2f}.pth'.format(time_string, test_accuracy))\n",
    "        print(\"Saved the updated model\")\n",
    "        \n",
    "    print('Test Error of the model on the test images: {}'.format((error_test / total_test)))\n",
    "    print('Test Accuracy of the model on the test images: {} %'.format(test_accuracy))\n",
    "    print('Train Error of the model on the test images: {}'.format((error_train / total_train)))\n",
    "    print('Train Accuracy of the model on the test images: {} %'.format((correct_train / total_train) * 100))"
   ]
  },
  {
   "cell_type": "code",
   "execution_count": null,
   "metadata": {
    "colab": {
     "base_uri": "https://localhost:8080/"
    },
    "colab_type": "code",
    "id": "LQApSJ2OjYip",
    "outputId": "50744163-8cf8-45ae-f7dc-f58b05cb9ee0"
   },
   "outputs": [],
   "source": [
    "files.download('CNNModel-05:21:2019-12:41:32-99.17.pth')"
   ]
  },
  {
   "cell_type": "code",
   "execution_count": 16,
   "metadata": {
    "colab": {
     "base_uri": "https://localhost:8080/",
     "height": 748
    },
    "colab_type": "code",
    "id": "_nNOUA9RHOFZ",
    "outputId": "20e955e9-05bb-4953-e064-b32efd63b413"
   },
   "outputs": [
    {
     "data": {
      "text/plain": [
       "['.config',\n",
       " 'CNNModel-05:21:2019-12:28:08-87.50.pth',\n",
       " 'CNNModel-05:21:2019-11:44:36-91.67.pth',\n",
       " 'CNNModel-05:21:2019-12:34:05-98.33.pth',\n",
       " 'CNNModel-05:21:2019-11:42:14-91.67.pth',\n",
       " 'CNNModel-05:21:2019-12:41:32-99.17.pth',\n",
       " 'CNNModel-05:21:2019-11:41:18-95.83.pth',\n",
       " 'CNNModel-05:21:2019-12:26:43-89.17.pth',\n",
       " 'CNNModel-05:21:2019-12:30:02-99.17.pth',\n",
       " 'CNNModel-05:21:2019-10:52:26-98.33.pth',\n",
       " 'CNNModel-05:21:2019-10:55:14-99.17.pth',\n",
       " 'CNNModel-05:21:2019-10:52:54-99.17.pth',\n",
       " 'CNNModel-05:21:2019-12:35:02-98.33.pth',\n",
       " 'CNNModel-05:21:2019-12:34:33-99.17.pth',\n",
       " 'CNNModel-05:21:2019-10:51:57-99.17.pth',\n",
       " 'adc.json',\n",
       " 'CNNModel-05:21:2019-12:29:34-98.33.pth',\n",
       " 'CNNModel-05:21:2019-12:33:36-98.33.pth',\n",
       " 'CNNModel-05:21:2019-11:43:11-97.50.pth',\n",
       " 'CNNModel-05:21:2019-12:36:46-99.17.pth',\n",
       " 'CNNModel-05:21:2019-11:42:42-93.33.pth',\n",
       " 'CNNModel-05:21:2019-10:54:18-99.17.pth',\n",
       " 'CNNModel-05:21:2019-12:26:15-87.50.pth',\n",
       " 'CNNModel-05:21:2019-10:51:29-99.17.pth',\n",
       " 'CNNModel-05:21:2019-12:28:36-91.67.pth',\n",
       " 'CNNModel-05:21:2019-11:43:39-96.67.pth',\n",
       " 'CNNModel-05:21:2019-12:25:47-86.67.pth',\n",
       " 'CNNModel-05:21:2019-12:35:30-98.33.pth',\n",
       " 'CNNModel-05:21:2019-11:40:50-93.33.pth',\n",
       " 'CNNModel-05:21:2019-10:55:42-99.17.pth',\n",
       " 'CNNModel-05:21:2019-12:29:04-99.17.pth',\n",
       " 'CNNModel-05:21:2019-12:27:11-96.67.pth',\n",
       " 'CNNModel-05:21:2019-10:53:22-100.00.pth',\n",
       " 'CNNModel-05:21:2019-11:41:46-90.00.pth',\n",
       " 'CNNModel-05:21:2019-11:40:22-93.33.pth',\n",
       " 'CNNModel-05:21:2019-11:44:08-95.83.pth',\n",
       " 'CNNModel-05:21:2019-10:53:50-99.17.pth',\n",
       " 'CNNModel-05:21:2019-10:54:46-99.17.pth',\n",
       " 'CNNModel-05:21:2019-12:35:59-99.17.pth',\n",
       " 'CNNModel-05:21:2019-12:27:40-97.50.pth',\n",
       " 'CNNModel-05:21:2019-11:39:40-91.67.pth',\n",
       " 'drive',\n",
       " 'sample_data']"
      ]
     },
     "execution_count": 16,
     "metadata": {
      "tags": []
     },
     "output_type": "execute_result"
    }
   ],
   "source": [
    "import os\n",
    "os.listdir()"
   ]
  },
  {
   "cell_type": "code",
   "execution_count": null,
   "metadata": {
    "colab": {},
    "colab_type": "code",
    "id": "9p9wPOr5HzK9"
   },
   "outputs": [],
   "source": []
  }
 ],
 "metadata": {
  "accelerator": "GPU",
  "colab": {
   "collapsed_sections": [],
   "name": "Copy of Untitled1.ipynb",
   "provenance": [],
   "version": "0.3.2"
  },
  "kernelspec": {
   "display_name": "Python 3",
   "language": "python",
   "name": "python3"
  },
  "language_info": {
   "codemirror_mode": {
    "name": "ipython",
    "version": 3
   },
   "file_extension": ".py",
   "mimetype": "text/x-python",
   "name": "python",
   "nbconvert_exporter": "python",
   "pygments_lexer": "ipython3",
   "version": "3.7.3"
  }
 },
 "nbformat": 4,
 "nbformat_minor": 2
}
